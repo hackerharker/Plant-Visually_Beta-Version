{
 "cells": [
  {
   "cell_type": "code",
   "execution_count": 1,
   "metadata": {},
   "outputs": [],
   "source": [
    "# this is the plant class, which is used to create each of the plant objects.\n",
    "class Plant:\n",
    "    \n",
    "    # the months are a tuple object because this information doesn't change.\n",
    "    months = (\"JAN\", \"FEB\", \"MAR\", \"APR\", \"MAY\", \"JUN\", \"JUL\", \"AUG\", \"SEP\", \"OCT\", \"NOV\", \"DEC\")\n",
    "    \n",
    "    \"\"\"\n",
    "    each plant object accpets three arguments, self, \n",
    "    a name and months with seasonal interest, which in this case is a flower color.  \n",
    "    \"\"\"\n",
    "    \n",
    "    def __init__(self, name, interest_for_month):\n",
    "        self.name = name\n",
    "        self.interest_for_month = interest_for_month\n",
    "               \n",
    "    # the plant objects have the ability to print their name, which shows up in the menu and also the chart.    \n",
    "    def print_name(self):\n",
    "        print(self.name)\n",
    "   \n",
    "    '''   \n",
    "    in the function below each plant loops through the months and returns\n",
    "    seasonal interest if there is any for that particular month.\n",
    "   \n",
    "    '''  \n",
    "    \n",
    "    def print_interest(self):  \n",
    "        # the interest_string starts as a blank variable\n",
    "        interest_string = \" \"\n",
    "        \n",
    "        \"\"\"\n",
    "        this instance method loops through the months in the plant object \n",
    "        to retrieve seasonal interest for each month\n",
    "        \"\"\"\n",
    "        \n",
    "        for month in self.months:\n",
    "            if month in self.interest_for_month:\n",
    "                \"\"\"\n",
    "                all the seasonal interest information has to be printed as a string so \n",
    "                that it is horizonal and to be read corretly in the chart.\n",
    "                \"\"\"\n",
    "                interest_string = interest_string + self.interest_for_month[month] + \"-\"\n",
    "\n",
    "            # in the case that there isn't seasonal interest in a particular month, 4 dashes are printed    \n",
    "            else:\n",
    "                interest_string = interest_string + \"----\"\n",
    "        print(interest_string + self.name)     "
   ]
  },
  {
   "cell_type": "code",
   "execution_count": 2,
   "metadata": {},
   "outputs": [],
   "source": [
    "class Chart:\n",
    "    \n",
    "    \"\"\"\n",
    "    this chart class prints chart objects, which are how the \n",
    "    information about seasonal interest is displayed graphcially.\n",
    "    \"\"\"\n",
    "    \n",
    "    months=(\"JAN\", \"FEB\", \"MAR\", \"APR\", \"MAY\", \"JUN\", \"JUL\", \"AUG\", \"SEP\", \"OCT\", \"NOV\", \"DEC\")\n",
    "    \n",
    "    #the Plant object accepts two arguments, self and plant_list\n",
    "    def __init__(self, plant_list):\n",
    "        self.plant_list = plant_list\n",
    "    \n",
    "    #this instance method prints the months in a year as a header for the chart\n",
    "    def month_header(self):\n",
    "        month_list = \"\"\n",
    "        #the month list has to be converted into a string so that it is read horizontally rather than vertically\n",
    "        for month in self.months:\n",
    "            month_list = month_list + \" \" + month\n",
    "        return month_list\n",
    "    \n",
    "    \"\"\"\n",
    "    this instance method prints the body of the chart, \n",
    "    which shows the color of the flowers for each month the plant is blooming.\n",
    "    \"\"\"\n",
    "    \n",
    "    def print_chart(self):\n",
    "        print(self.month_header())\n",
    "        for plant in self.plant_list:\n",
    "            plant.print_interest()"
   ]
  },
  {
   "cell_type": "code",
   "execution_count": 3,
   "metadata": {},
   "outputs": [],
   "source": [
    "\"\"\"\n",
    "These are the Plant objects, which each have a name that is a string, \n",
    "and the interest in the month, which is a dictionary where the key \n",
    "is the month and the value is a color. The colors are abbreveated to 3 letter \n",
    "words so that they take up the correct amount of space in the chart.\n",
    "Eventually there could be more information about each plant added to the dictionary.\n",
    "\"\"\"\n",
    "\n",
    "plant_1 = Plant(\"Eschscholzia californica\",{'FEB':'ORA', 'MAR': 'ORA', 'APR': 'ORA', 'MAY':'ORA', 'JUN': 'ORA', 'JUL':'ORA', 'AUG':'ORA', 'SEP': 'ORA'})\n",
    "plant_2 = Plant(\"Erigeron glaucus\",{'JAN':'LAV','FEB':'LAV','MAR':'LAV', 'APR':'LAV', 'MAY':'LAV', 'JUN':'LAV', 'JUL':'LAV', 'AUG':'LAV'})\n",
    "plant_3 = Plant(\"Armeria maritima\", {'MAY':'PNK', 'JUN':'PNK'} )\n",
    "plant_4 = Plant(\"Lupinus formosus\", {'JUL':'PUR', 'AUG':'PUR', 'SEP':'PUR', 'OCT':'PUR'})"
   ]
  },
  {
   "cell_type": "code",
   "execution_count": 4,
   "metadata": {},
   "outputs": [],
   "source": [
    "# the all_plants list includes all the Plant objects\n",
    "all_plants = [plant_1, plant_2, plant_3, plant_4]"
   ]
  },
  {
   "cell_type": "code",
   "execution_count": 5,
   "metadata": {},
   "outputs": [
    {
     "name": "stdout",
     "output_type": "stream",
     "text": [
      "Eschscholzia californica\n",
      "Erigeron glaucus\n",
      "Armeria maritima\n",
      "Lupinus formosus\n"
     ]
    }
   ],
   "source": [
    "\"\"\"\n",
    "Here I am calling the print_name instance method for the list of all_plants.\n",
    "Each of these plants will be displayed in the chart.\n",
    "\"\"\"\n",
    "\n",
    "for plant in all_plants:\n",
    "    print(plant.name)"
   ]
  },
  {
   "cell_type": "code",
   "execution_count": 6,
   "metadata": {},
   "outputs": [],
   "source": [
    "# this is a Chart object that shows the information about all the plants in a chart\n",
    "chart_1 = Chart(all_plants)"
   ]
  },
  {
   "cell_type": "code",
   "execution_count": 7,
   "metadata": {},
   "outputs": [
    {
     "name": "stdout",
     "output_type": "stream",
     "text": [
      " JAN FEB MAR APR MAY JUN JUL AUG SEP OCT NOV DEC\n",
      " ----ORA-ORA-ORA-ORA-ORA-ORA-ORA-ORA-------------Eschscholzia californica\n",
      " LAV-LAV-LAV-LAV-LAV-LAV-LAV-LAV-----------------Erigeron glaucus\n",
      " ----------------PNK-PNK-------------------------Armeria maritima\n",
      " ------------------------PUR-PUR-PUR-PUR---------Lupinus formosus\n"
     ]
    }
   ],
   "source": [
    "\"\"\"\n",
    "Upon printing the chart object information is displayed in horizontal strings, with a header \n",
    "displaying each month, the seasonal interest and color in the body of the chart and the plant\n",
    "names listed to the right of the chart.\n",
    "\"\"\"\n",
    "\n",
    "chart_1.print_chart()"
   ]
  },
  {
   "cell_type": "code",
   "execution_count": 8,
   "metadata": {},
   "outputs": [
    {
     "name": "stdout",
     "output_type": "stream",
     "text": [
      "Do you want to add Eschscholzia californica to the list? Y/N: y\n",
      "Do you want to add Erigeron glaucus to the list? Y/N: n\n",
      "Do you want to add Armeria maritima to the list? Y/N: y\n",
      "Do you want to add Lupinus formosus to the list? Y/N: n\n"
     ]
    }
   ],
   "source": [
    "\"\"\"\n",
    "This is a function that loops through the all_plants list and displays each \n",
    "plant's name and asks the user if they would like to add it to their list of my_plants.\n",
    "\"\"\"\n",
    "\n",
    "# my_plants starts as an empty list\n",
    "my_plants = []\n",
    "\n",
    "# this function loops through all the plants in the all_plants list\n",
    "for plant in all_plants:\n",
    "    #user's are asked to input Y or N to indicate whether they want to add the plant to my_plants\n",
    "    user_input = input(f\"Do you want to add {plant.name} to the list? Y/N: \")\n",
    "    \n",
    "    #the user_input is converted to a capital letter in the case the user uses a lower case letter\n",
    "    if user_input.upper() == \"Y\":\n",
    "        \n",
    "        #if the user inputs Y, the plant is added to list list of my_plants\n",
    "        my_plants.append(plant)"
   ]
  },
  {
   "cell_type": "code",
   "execution_count": 9,
   "metadata": {},
   "outputs": [
    {
     "name": "stdout",
     "output_type": "stream",
     "text": [
      "Eschscholzia californica\n",
      "Armeria maritima\n"
     ]
    }
   ],
   "source": [
    "#this function prints the names of all the plants in the list my_plants\n",
    "for plant in my_plants:\n",
    "    plant.print_name()"
   ]
  },
  {
   "cell_type": "code",
   "execution_count": 10,
   "metadata": {},
   "outputs": [],
   "source": [
    "# a new Chart object is created to accept the my_plants list\n",
    "chart_2= Chart(my_plants)"
   ]
  },
  {
   "cell_type": "code",
   "execution_count": 11,
   "metadata": {},
   "outputs": [
    {
     "name": "stdout",
     "output_type": "stream",
     "text": [
      " JAN FEB MAR APR MAY JUN JUL AUG SEP OCT NOV DEC\n",
      " ----ORA-ORA-ORA-ORA-ORA-ORA-ORA-ORA-------------Eschscholzia californica\n",
      " ----------------PNK-PNK-------------------------Armeria maritima\n"
     ]
    }
   ],
   "source": [
    "\"\"\"\n",
    "Printing the Chart object yields a new chart that displays the seasonal interest \n",
    "per month for the plants the user selected and added to the my_plants list.\n",
    "\"\"\"\n",
    "\n",
    "chart_2.print_chart()"
   ]
  }
 ],
 "metadata": {
  "kernelspec": {
   "display_name": "Python 3.8.2 64-bit ('myenv': conda)",
   "language": "python",
   "name": "python38264bitmyenvconda45f5a714376e444284f60e84ea9d57e8"
  },
  "language_info": {
   "codemirror_mode": {
    "name": "ipython",
    "version": 3
   },
   "file_extension": ".py",
   "mimetype": "text/x-python",
   "name": "python",
   "nbconvert_exporter": "python",
   "pygments_lexer": "ipython3",
   "version": "3.8.2"
  }
 },
 "nbformat": 4,
 "nbformat_minor": 4
}
