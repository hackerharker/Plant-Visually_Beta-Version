{
 "cells": [
  {
   "cell_type": "code",
   "execution_count": 1,
   "metadata": {},
   "outputs": [],
   "source": [
    "class Plant:\n",
    "    \n",
    "    months = (\"JAN\", \"FEB\", \"MAR\", \"APR\", \"MAY\", \"JUN\", \"JUL\", \"AUG\", \"SEP\", \"OCT\", \"NOV\", \"DEC\")\n",
    "    def __init__(self, name, interest_for_month):\n",
    "        self.name = name\n",
    "        self.interest_for_month = interest_for_month\n",
    "        self.name = name\n",
    "        \n",
    "    def print_name(self):\n",
    "        print(self.name)\n",
    "        \n",
    "    def print_interest(self):  \n",
    "        interest_string = \" \"\n",
    "        for month in self.months:\n",
    "            if month in self.interest_for_month:\n",
    "                interest_string = interest_string + self.interest_for_month[month] + \"-\"\n",
    "\n",
    "            else:\n",
    "                interest_string = interest_string + \"----\"\n",
    "        print(interest_string + self.name)     "
   ]
  },
  {
   "cell_type": "code",
   "execution_count": 2,
   "metadata": {},
   "outputs": [],
   "source": [
    "class Chart:\n",
    "    \n",
    "    months=(\"JAN\", \"FEB\", \"MAR\", \"APR\", \"MAY\", \"JUN\", \"JUL\", \"AUG\", \"SEP\", \"OCT\", \"NOV\", \"DEC\")\n",
    "    def __init__(self, plant_list):\n",
    "        self.plant_list = plant_list\n",
    "    \n",
    "    def month_header(self):\n",
    "        month_list = \"\"\n",
    "        for month in self.months:\n",
    "            month_list = month_list + \" \" + month\n",
    "        return month_list\n",
    "                \n",
    "    def print_chart(self):\n",
    "        print(self.month_header())\n",
    "        for plant in self.plant_list:\n",
    "            plant.print_interest()"
   ]
  },
  {
   "cell_type": "code",
   "execution_count": 3,
   "metadata": {},
   "outputs": [],
   "source": [
    "plant_1 = Plant(\"Eschscholzia californica\",{'FEB':'ORA', 'MAR': 'ORA', 'APR': 'ORA', 'MAY':'ORA', 'JUN': 'ORA', 'JUL':'ORA', 'AUG':'ORA', 'SEP': 'ORA'})\n",
    "plant_2 = Plant(\"Erigeron glaucus\",{'JAN':'LAV','FEB':'LAV','MAR':'LAV', 'APR':'LAV', 'MAY':'LAV', 'JUN':'LAV', 'JUL':'LAV', 'AUG':'LAV'})\n",
    "plant_3 = Plant(\"Armeria maritima\", {'MAY':'PNK', 'JUN':'PNK'} )\n",
    "plant_4 = Plant(\"Lupinus formosus\", {'JUL':'PUR', 'AUG':'PUR', 'SEP':'PUR', 'OCT':'PUR'})"
   ]
  },
  {
   "cell_type": "code",
   "execution_count": 4,
   "metadata": {},
   "outputs": [],
   "source": [
    "all_plants = [plant_1, plant_2, plant_3, plant_4]"
   ]
  },
  {
   "cell_type": "code",
   "execution_count": 5,
   "metadata": {},
   "outputs": [],
   "source": [
    "chart_1 = Chart(all_plants)"
   ]
  },
  {
   "cell_type": "code",
   "execution_count": 6,
   "metadata": {},
   "outputs": [
    {
     "name": "stdout",
     "output_type": "stream",
     "text": [
      " JAN FEB MAR APR MAY JUN JUL AUG SEP OCT NOV DEC\n",
      " ----ORA-ORA-ORA-ORA-ORA-ORA-ORA-ORA-------------Eschscholzia californica\n",
      " LAV-LAV-LAV-LAV-LAV-LAV-LAV-LAV-----------------Erigeron glaucus\n",
      " ----------------PNK-PNK-------------------------Armeria maritima\n",
      " ------------------------PUR-PUR-PUR-PUR---------Lupinus formosus\n"
     ]
    }
   ],
   "source": [
    "chart_1.print_chart()"
   ]
  },
  {
   "cell_type": "code",
   "execution_count": 7,
   "metadata": {},
   "outputs": [
    {
     "name": "stdout",
     "output_type": "stream",
     "text": [
      "Eschscholzia californica\n",
      "Erigeron glaucus\n",
      "Armeria maritima\n",
      "Lupinus formosus\n"
     ]
    }
   ],
   "source": [
    "for plant in all_plants:\n",
    "    print(plant.name)"
   ]
  },
  {
   "cell_type": "code",
   "execution_count": 8,
   "metadata": {},
   "outputs": [
    {
     "name": "stdout",
     "output_type": "stream",
     "text": [
      "Do you want to add Eschscholzia californica to the list? Y/N: n\n",
      "Do you want to add Erigeron glaucus to the list? Y/N: y\n",
      "Do you want to add Armeria maritima to the list? Y/N: y\n",
      "Do you want to add Lupinus formosus to the list? Y/N: y\n"
     ]
    }
   ],
   "source": [
    "my_plants = []\n",
    "for plant in all_plants:\n",
    "    user_input = input(f\"Do you want to add {plant.name} to the list? Y/N: \")\n",
    "    if user_input.upper() == \"Y\":\n",
    "        my_plants.append(plant)"
   ]
  },
  {
   "cell_type": "code",
   "execution_count": 9,
   "metadata": {},
   "outputs": [
    {
     "name": "stdout",
     "output_type": "stream",
     "text": [
      "Erigeron glaucus\n",
      "Armeria maritima\n",
      "Lupinus formosus\n"
     ]
    }
   ],
   "source": [
    "for plant in my_plants:\n",
    "    plant.print_name()"
   ]
  },
  {
   "cell_type": "code",
   "execution_count": 10,
   "metadata": {},
   "outputs": [],
   "source": [
    "chart_2= Chart(my_plants)"
   ]
  },
  {
   "cell_type": "code",
   "execution_count": 11,
   "metadata": {},
   "outputs": [
    {
     "name": "stdout",
     "output_type": "stream",
     "text": [
      " JAN FEB MAR APR MAY JUN JUL AUG SEP OCT NOV DEC\n",
      " LAV-LAV-LAV-LAV-LAV-LAV-LAV-LAV-----------------Erigeron glaucus\n",
      " ----------------PNK-PNK-------------------------Armeria maritima\n",
      " ------------------------PUR-PUR-PUR-PUR---------Lupinus formosus\n"
     ]
    }
   ],
   "source": [
    "chart_2.print_chart()"
   ]
  },
  {
   "cell_type": "code",
   "execution_count": null,
   "metadata": {},
   "outputs": [],
   "source": []
  },
  {
   "cell_type": "code",
   "execution_count": null,
   "metadata": {},
   "outputs": [],
   "source": []
  },
  {
   "cell_type": "code",
   "execution_count": null,
   "metadata": {},
   "outputs": [],
   "source": []
  },
  {
   "cell_type": "code",
   "execution_count": null,
   "metadata": {},
   "outputs": [],
   "source": []
  },
  {
   "cell_type": "code",
   "execution_count": null,
   "metadata": {},
   "outputs": [],
   "source": []
  },
  {
   "cell_type": "code",
   "execution_count": null,
   "metadata": {},
   "outputs": [],
   "source": []
  },
  {
   "cell_type": "code",
   "execution_count": null,
   "metadata": {},
   "outputs": [],
   "source": []
  }
 ],
 "metadata": {
  "kernelspec": {
   "display_name": "Python 3.8.2 64-bit ('myenv': conda)",
   "language": "python",
   "name": "python38264bitmyenvconda45f5a714376e444284f60e84ea9d57e8"
  },
  "language_info": {
   "codemirror_mode": {
    "name": "ipython",
    "version": 3
   },
   "file_extension": ".py",
   "mimetype": "text/x-python",
   "name": "python",
   "nbconvert_exporter": "python",
   "pygments_lexer": "ipython3",
   "version": "3.8.2"
  }
 },
 "nbformat": 4,
 "nbformat_minor": 4
}
